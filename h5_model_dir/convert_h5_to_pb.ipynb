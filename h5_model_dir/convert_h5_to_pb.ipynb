{
 "cells": [
  {
   "cell_type": "code",
   "execution_count": 7,
   "id": "9d1b605f-7f4a-4070-ae42-e253e75bdbfc",
   "metadata": {},
   "outputs": [
    {
     "name": "stdout",
     "output_type": "stream",
     "text": [
      "\"\"\"\n",
      "DUNE CVN test module.\n",
      "\"\"\"\n",
      "__version__ = '1.0'\n",
      "__author__ = 'Saul Alonso-Monsalve, Leigh Howard Whitehead'\n",
      "__email__ = \"saul.alonso.monsalve@cern.ch, leigh.howard.whitehead@cern.ch\"\n",
      "\n",
      "import shutil\n",
      "import numpy as np\n",
      "import pickle as pk\n",
      "import sys\n",
      "import os\n",
      "\n",
      "sys.path.append(os.path.join(sys.path[0], 'modules'))\n",
      "\n",
      "from tensorflow.keras.models import model_from_json\n",
      "from sklearn.metrics import classification_report, confusion_matrix\n",
      "from data_generator import DataGenerator\n",
      "from opts import get_args\n",
      "from keras.models import load_model\n",
      "import my_losses\n",
      "from dune_cvn import CustomTrainStep\n",
      "\n",
      "# manually specify the GPUs to use\n",
      "os.environ[\"CUDA_DEVICE_ORDER\"]=\"PCI_BUS_ID\"\n",
      "os.environ[\"CUDA_VISIBLE_DEVICES\"]=\"0\"\n",
      "\n"
     ]
    }
   ],
   "source": [
    "# import some useful modules\n",
    "!cat utils.py\n",
    "from utils import *"
   ]
  },
  {
   "cell_type": "code",
   "execution_count": 9,
   "id": "508be396-a513-4b5b-953e-37032514368c",
   "metadata": {},
   "outputs": [
    {
     "name": "stderr",
     "output_type": "stream",
     "text": [
      "2023-04-05 18:35:09.756166: I tensorflow/stream_executor/cuda/cuda_gpu_executor.cc:980] successful NUMA node read from SysFS had negative value (-1), but there must be at least one NUMA node, so returning NUMA node zero\n",
      "2023-04-05 18:35:09.762203: I tensorflow/stream_executor/cuda/cuda_gpu_executor.cc:980] successful NUMA node read from SysFS had negative value (-1), but there must be at least one NUMA node, so returning NUMA node zero\n",
      "2023-04-05 18:35:09.762500: I tensorflow/stream_executor/cuda/cuda_gpu_executor.cc:980] successful NUMA node read from SysFS had negative value (-1), but there must be at least one NUMA node, so returning NUMA node zero\n",
      "2023-04-05 18:35:09.763344: I tensorflow/core/platform/cpu_feature_guard.cc:193] This TensorFlow binary is optimized with oneAPI Deep Neural Network Library (oneDNN) to use the following CPU instructions in performance-critical operations:  SSE4.1 SSE4.2 AVX AVX2 FMA\n",
      "To enable them in other operations, rebuild TensorFlow with the appropriate compiler flags.\n",
      "2023-04-05 18:35:09.769746: I tensorflow/stream_executor/cuda/cuda_gpu_executor.cc:980] successful NUMA node read from SysFS had negative value (-1), but there must be at least one NUMA node, so returning NUMA node zero\n",
      "2023-04-05 18:35:09.770034: I tensorflow/stream_executor/cuda/cuda_gpu_executor.cc:980] successful NUMA node read from SysFS had negative value (-1), but there must be at least one NUMA node, so returning NUMA node zero\n",
      "2023-04-05 18:35:09.770300: I tensorflow/stream_executor/cuda/cuda_gpu_executor.cc:980] successful NUMA node read from SysFS had negative value (-1), but there must be at least one NUMA node, so returning NUMA node zero\n",
      "2023-04-05 18:35:10.330225: I tensorflow/stream_executor/cuda/cuda_gpu_executor.cc:980] successful NUMA node read from SysFS had negative value (-1), but there must be at least one NUMA node, so returning NUMA node zero\n",
      "2023-04-05 18:35:10.330592: I tensorflow/stream_executor/cuda/cuda_gpu_executor.cc:980] successful NUMA node read from SysFS had negative value (-1), but there must be at least one NUMA node, so returning NUMA node zero\n",
      "2023-04-05 18:35:10.330851: I tensorflow/stream_executor/cuda/cuda_gpu_executor.cc:980] successful NUMA node read from SysFS had negative value (-1), but there must be at least one NUMA node, so returning NUMA node zero\n",
      "2023-04-05 18:35:10.331076: I tensorflow/core/common_runtime/gpu/gpu_device.cc:1616] Created device /job:localhost/replica:0/task:0/device:GPU:0 with 18113 MB memory:  -> device: 0, name: NVIDIA A100 80GB PCIe MIG 2g.20gb, pci bus id: 0000:06:00.0, compute capability: 8.0\n"
     ]
    }
   ],
   "source": [
    "from keras.models import load_model\n",
    "\n",
    "model = load_model(\"/home/vmeddage/sbnd-training/h5_model_dir/multioutput_2x6_hd_fid_old-14-0.89.h5\",custom_objects={'CustomTrainStep': CustomTrainStep,'masked_loss_binary':my_losses.masked_loss_binary,'masked_loss_categorical':my_losses.masked_loss_categorical})"
   ]
  },
  {
   "cell_type": "code",
   "execution_count": 10,
   "id": "b3cd09c3-70bb-4aaf-b1b9-97b6b294fa86",
   "metadata": {},
   "outputs": [],
   "source": [
    "import tensorflow as tf"
   ]
  },
  {
   "cell_type": "code",
   "execution_count": 12,
   "id": "44bae3ce-8cd0-4a16-b2a5-e2f838628a14",
   "metadata": {},
   "outputs": [
    {
     "name": "stderr",
     "output_type": "stream",
     "text": [
      "WARNING:absl:Found untraced functions such as _jit_compiled_convolution_op, _jit_compiled_convolution_op, _jit_compiled_convolution_op, _jit_compiled_convolution_op, _jit_compiled_convolution_op while saving (showing 5 of 50). These functions will not be directly callable after loading.\n"
     ]
    },
    {
     "name": "stdout",
     "output_type": "stream",
     "text": [
      "INFO:tensorflow:Assets written to: /home/vmeddage/sbnd-training/pb_model_dir/assets\n"
     ]
    },
    {
     "name": "stderr",
     "output_type": "stream",
     "text": [
      "INFO:tensorflow:Assets written to: /home/vmeddage/sbnd-training/pb_model_dir/assets\n"
     ]
    }
   ],
   "source": [
    "tf.saved_model.save(model, '/home/vmeddage/sbnd-training/pb_model_dir/')"
   ]
  },
  {
   "cell_type": "code",
   "execution_count": null,
   "id": "b0321cbc-6e1e-4b92-bd17-dd9f6a4bee36",
   "metadata": {},
   "outputs": [],
   "source": []
  }
 ],
 "metadata": {
  "kernelspec": {
   "display_name": "Python 3 (ipykernel)",
   "language": "python",
   "name": "py3-preamble"
  },
  "language_info": {
   "codemirror_mode": {
    "name": "ipython",
    "version": 3
   },
   "file_extension": ".py",
   "mimetype": "text/x-python",
   "name": "python",
   "nbconvert_exporter": "python",
   "pygments_lexer": "ipython3",
   "version": "3.10.15"
  }
 },
 "nbformat": 4,
 "nbformat_minor": 5
}
